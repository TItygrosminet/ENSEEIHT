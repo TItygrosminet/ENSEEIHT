{
 "cells": [
  {
   "cell_type": "markdown",
   "metadata": {},
   "source": [
    "# TP 2-3 : Branch-and-bound applied to a knapsack problem"
   ]
  },
  {
   "cell_type": "markdown",
   "metadata": {},
   "source": [
    "### Initialisation (à faire une seule fois)"
   ]
  },
  {
   "cell_type": "code",
   "execution_count": 1,
   "metadata": {},
   "outputs": [
    {
     "name": "stderr",
     "output_type": "stream",
     "text": [
      "\u001b[32m\u001b[1m    Updating\u001b[22m\u001b[39m registry at `~/.julia/registries/General.toml`\n"
     ]
    },
    {
     "name": "stderr",
     "output_type": "stream",
     "text": [
      "\u001b[32m\u001b[1m   Resolving\u001b[22m\u001b[39m package versions...\n"
     ]
    },
    {
     "name": "stderr",
     "output_type": "stream",
     "text": [
      "\u001b[32m\u001b[1m  No Changes\u001b[22m\u001b[39m to `~/.julia/environments/v1.8/Project.toml`\n",
      "\u001b[32m\u001b[1m  No Changes\u001b[22m\u001b[39m to `~/.julia/environments/v1.8/Manifest.toml`\n"
     ]
    },
    {
     "name": "stderr",
     "output_type": "stream",
     "text": [
      "\u001b[32m\u001b[1m   Resolving\u001b[22m\u001b[39m package versions...\n"
     ]
    },
    {
     "name": "stderr",
     "output_type": "stream",
     "text": [
      "\u001b[32m\u001b[1m  No Changes\u001b[22m\u001b[39m to `~/.julia/environments/v1.8/Project.toml`\n",
      "\u001b[32m\u001b[1m  No Changes\u001b[22m\u001b[39m to `~/.julia/environments/v1.8/Manifest.toml`\n"
     ]
    }
   ],
   "source": [
    "import Pkg; \n",
    "Pkg.add(\"GraphRecipes\"); Pkg.add(\"Plots\"); \n",
    "using GraphRecipes, Plots #only used to visualize the search tree at the end of the branch-and-bound"
   ]
  },
  {
   "cell_type": "markdown",
   "metadata": {},
   "source": [
    "### Récupération des données"
   ]
  },
  {
   "cell_type": "code",
   "execution_count": 2,
   "metadata": {},
   "outputs": [
    {
     "data": {
      "text/plain": [
       "readKnaptxtInstance (generic function with 1 method)"
      ]
     },
     "metadata": {},
     "output_type": "display_data"
    }
   ],
   "source": [
    "function readKnaptxtInstance(filename)\n",
    "    price=[]\n",
    "    weight=[]\n",
    "    KnapCap=[]\n",
    "    open(filename) do f\n",
    "        for i in 1:3\n",
    "            tok = split(readline(f))\n",
    "            if(tok[1] == \"ListPrices=\")\n",
    "                for i in 2:(length(tok)-1)\n",
    "                    push!(price,parse(Int64, tok[i]))\n",
    "                end\n",
    "            elseif(tok[1] == \"ListWeights=\")\n",
    "                for i in 2:(length(tok)-1)\n",
    "                    push!(weight,parse(Int64, tok[i]))\n",
    "                end\n",
    "            elseif(tok[1] == \"Capacity=\")\n",
    "                push!(KnapCap, parse(Int64, tok[2]))\n",
    "            else\n",
    "                println(\"Unknown read :\", tok)\n",
    "            end \n",
    "        end\n",
    "    end\n",
    "    capacity=KnapCap[1]\n",
    "    return price, weight, capacity\n",
    "end"
   ]
  },
  {
   "cell_type": "markdown",
   "metadata": {},
   "source": [
    "### Boucle principale : résoudre une relaxation, appliquer les tests de sondabilité, identifier le prochain noeud, répéter."
   ]
  },
  {
   "cell_type": "code",
   "execution_count": 69,
   "metadata": {},
   "outputs": [
    {
     "data": {
      "text/plain": [
       "SolveKnapInstance (generic function with 1 method)"
      ]
     },
     "metadata": {},
     "output_type": "display_data"
    }
   ],
   "source": [
    "\n",
    "function SolveKnapInstance(filename)\n",
    "\n",
    "    # Récupération des données\n",
    "    price, weight, capacity = readKnaptxtInstance(filename)\n",
    "\n",
    "    BestProfit = -1\n",
    "    \n",
    "    # Matrice des solutions / Matrice composition\n",
    "    tab = zeros(length(weight)+1, capacity+1)\n",
    "    \n",
    "    for i in 1:length(weight)\n",
    "        for j in 1:capacity\n",
    "            if j >= weight[i]\n",
    "                tab[i+1,j+1] = max(tab[i, j+1],tab[i, j+1-weight[i]]+price[i])\n",
    "            else\n",
    "                tab[i+1,j+1] = tab[i,j+1]\n",
    "            end\n",
    "        end\n",
    "    end\n",
    "\n",
    "    BestProfit = tab[length(weight)+1,capacity+1]\n",
    "\n",
    "    # Récupération de Bestsol\n",
    "    Bestsol = zeros(length(weight))\n",
    "    Val = BestProfit\n",
    "    i = length(weight)+1\n",
    "    j = capacity+1\n",
    "\n",
    "    while Val > 0 && j > 0\n",
    "        if Val == tab[i-1,j]\n",
    "            Bestsol[i-1] = 0\n",
    "            i = i - 1\n",
    "            j = j\n",
    "            Val = tab[i,j]\n",
    "            \n",
    "        else\n",
    "            Bestsol[i-1] = 1\n",
    "            j = j - weight[i-1]\n",
    "            i = i - 1\n",
    "            Val = tab[i,j]\n",
    "\n",
    "        end\n",
    "\n",
    "    end\n",
    "\n",
    "    return tab, BestProfit, Bestsol\n",
    "\n",
    "end\n"
   ]
  },
  {
   "cell_type": "markdown",
   "metadata": {},
   "source": [
    "### Affichage du résultat final"
   ]
  },
  {
   "cell_type": "code",
   "execution_count": 70,
   "metadata": {},
   "outputs": [
    {
     "name": "stdout",
     "output_type": "stream",
     "text": [
      "\n",
      "******\n",
      "\n",
      "Optimal value = 65.0\n",
      "\n",
      "Optimal x=[0.0, 1.0, 0.0, 1.0]\n",
      "5×11 Matrix{Float64}:\n",
      " 0.0  0.0  0.0   0.0   0.0   0.0   0.0   0.0   0.0   0.0   0.0\n",
      " 0.0  0.0  0.0   0.0   0.0   0.0   0.0  42.0  42.0  42.0  42.0\n",
      " 0.0  0.0  0.0   0.0  40.0  40.0  40.0  42.0  42.0  42.0  42.0\n",
      " 0.0  0.0  0.0  12.0  40.0  40.0  40.0  52.0  52.0  52.0  54.0\n",
      " 0.0  0.0  0.0  12.0  40.0  40.0  40.0  52.0  52.0  65.0  65.0"
     ]
    }
   ],
   "source": [
    "tab, BestProfit, Bestsol = SolveKnapInstance(\"instancesETU/KNAPnewformat/test.opb.txt\")\n",
    "println(\"\\n******\\n\\nOptimal value = \", BestProfit, \"\\n\\nOptimal x=\", Bestsol)\n",
    "show(stdout, \"text/plain\", tab)"
   ]
  },
  {
   "attachments": {},
   "cell_type": "markdown",
   "metadata": {},
   "source": [
    "## Questions préliminaires:\n",
    "1. Quelle est la règle de séparation ? \\\n",
    "   La règle de séparation est celle par ordre lexicographique. On choisit le premier objet dans la liste qui n'a pas été encore pris.\n",
    "\n",
    "2. Quelle est la méthode de calcul de borne supérieure ? \\\n",
    "   La méthode de calcul de borne supérieure correspond à la solution de la relaxation linéaire en fixant la valeur des objets pris à 1(et celle de objets non pris à 0).\n",
    "\n",
    "3. Quels sont les tests de sondabilité TA, TO, TR?\n",
    "   Test de sondabilité: \n",
    "   * TA : Le test d'admissibilité passe si la relaxation linéaire admet une solution.\n",
    "   * TO : La solution de la relaxation linéaire est inférieur au profit maximal.\n",
    "   * TR : La solution de relaxation linéaire est atteinte par des valeurs entières.\n",
    "\n",
    "   \n",
    "4. Quelle est la stratégie d’exploration ? \\\n",
    "   La stratégie d'exploration est la stratégie depthfirst, exploration en profondeur."
   ]
  },
  {
   "attachments": {},
   "cell_type": "markdown",
   "metadata": {},
   "source": [
    "## Code et analyse\n",
    "\n",
    "1. cf code\n",
    "\n",
    "2. cf code\n",
    "\n",
    "3. Points clés de  notre implémentation des différents blocs du Branch-and-Bound:\n",
    "\n",
    "    * `règle de séparation` : nous avons gardé l'ordre lexicographique défini initialement.\n",
    "    * `TA` : Le test de faisabilité passe si la capacité du sac à dos est négative: en effet le sac à dos déborde et la situation n'est plus valide.\n",
    "    * `TO` : Le test d'optimalité passe si la valeur de la borne supérieur, obtenue en remplissant le sac à dos, est inférieure à la meilleure solution déjà trouvée pour le sac à dos. En effet dans ce cas, il n'existe aucune combinaison d'objets permettant d'obtenir une meilleure valeur pour le sac final.\n",
    "    * `TR` : Le test de relaxation passe si nous trouvons une solution évidente au problème. Nous avons choisi de le valider si la capacité du sac à dos est nulle au noeud sondé (ie nous ne pouvons ajouter aucun autre objet dans cette situation, donc nous avons une solution évidente).\n",
    "    * `Stratégie d'exploration` : nous avons gardé la stratégie deephtfirst (d'exploration en profondeur) définie initialement.\n",
    "    \n",
    "\n",
    "4. Pour la structure de données permettant de garder les informations nécessaires au Branch-and-Bound, nous avons choisi de garder la structure définie intialement à l'aide de `listvals`, `listobj`et `listnodes`, ainsi que `BestProfit` et `Bestsol`. Nous avons décidé de mettre à jour ces derniers dans le programme principal à chaque noeud où la capacité est valide. Enfin, nous avons crée `weight_courant`, `price_courant` et `capacity_courant` pour avoir à chaque itération des valeurs actualisées de respectivement `weight`, `price` et `capacity`, qui sont utilisés notamment pour le calcul de la bornesup et déterminer si une nouvelle solution optimale est atteinte.\n",
    "\n",
    "5. Le résultat du Branch-and-Borne en utilisant quelle que soit la borne, ce qui semble cohérent (d'après le TD). Cependant, selon les bornes, les performances diffèrent. En effet, on remarque que la borne 2 a tendance à être plus petite que la borne 1. Par conséquent, le test d'optimalité a plus tendance à être vrai pour la borne 2 que la borne 1. Ainsi, il y a moins de sépération de noeuds et donc un nombre total de noeuds inférieur en utilisant la borne 2 que la borne 1. \n"
   ]
  }
 ],
 "metadata": {
  "kernelspec": {
   "display_name": "Julia 1.8.2",
   "language": "julia",
   "name": "julia-1.8"
  },
  "language_info": {
   "file_extension": ".jl",
   "mimetype": "application/julia",
   "name": "julia",
   "version": "1.8.2"
  }
 },
 "nbformat": 4,
 "nbformat_minor": 4
}
